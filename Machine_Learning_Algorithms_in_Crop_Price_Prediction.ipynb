{
  "nbformat": 4,
  "nbformat_minor": 0,
  "metadata": {
    "colab": {
      "provenance": []
    },
    "kernelspec": {
      "name": "python3",
      "display_name": "Python 3"
    },
    "language_info": {
      "name": "python"
    }
  },
  "cells": [
    {
      "cell_type": "markdown",
      "source": [
        "Importing Dataset"
      ],
      "metadata": {
        "id": "jST1g8cpgCc7"
      }
    },
    {
      "cell_type": "code",
      "execution_count": null,
      "metadata": {
        "id": "-B1gGMx_f4L8"
      },
      "outputs": [],
      "source": [
        "#Load Data\n",
        "\n",
        "url = 'https://api.foodsecurityportal.org/en/datastore/dump/1daac0af-9c6c-5b9f-b879-5dbb42f2d4b5'\n",
        "df =pd.read_csv(url)\n",
        "df.head(10)"
      ]
    },
    {
      "cell_type": "markdown",
      "source": [
        "Data Pre-Processing"
      ],
      "metadata": {
        "id": "2xP4ib--gtVz"
      }
    },
    {
      "cell_type": "code",
      "source": [
        "[] data = []\n",
        "for param in pdq:\n",
        "  for param_seasonal in seasonal_pdq:\n",
        "    try:\n",
        "      mod = sm.tsa.statespace.SARIMAX(df_month.Weighted_Price_Box, order=param, seasonal order=param_seasonal, enforce_stationarity=False, enforce_invertibility = False)\n",
        "      results = mod.fit()\n",
        "      print('ARIMA{}x{}12 - AIC:{}'.format(param, param_seasonal, results.aic))\n",
        "      data.append({'paramenters' : [param], 'aic' : [results.aic]})\n",
        "      except:\n",
        "        continue"
      ],
      "metadata": {
        "id": "51sFS2PZgvMa"
      },
      "execution_count": null,
      "outputs": []
    },
    {
      "cell_type": "code",
      "source": [
        "mod = sm.tsa.statespace.SARIMAX(df, order=(1,1,1),seasonal_order=(1,1,0, 12), enforce_stationarity=False, enforce_invertibility=False)\n",
        "\n",
        "results = mod.fit()\n",
        "print(results.summary().tables[1])"
      ],
      "metadata": {
        "id": "FGjWLO2XiRvD"
      },
      "execution_count": null,
      "outputs": []
    }
  ]
}