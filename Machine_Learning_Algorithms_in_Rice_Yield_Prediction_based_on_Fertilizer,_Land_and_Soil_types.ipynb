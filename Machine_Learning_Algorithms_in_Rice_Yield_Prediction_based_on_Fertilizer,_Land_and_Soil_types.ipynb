{
  "nbformat": 4,
  "nbformat_minor": 0,
  "metadata": {
    "colab": {
      "provenance": []
    },
    "kernelspec": {
      "name": "python3",
      "display_name": "Python 3"
    },
    "language_info": {
      "name": "python"
    }
  },
  "cells": [
    {
      "cell_type": "markdown",
      "source": [
        "Data Pre-Processing"
      ],
      "metadata": {
        "id": "HQ5IgvLrE5U1"
      }
    },
    {
      "cell_type": "markdown",
      "source": [
        "Importing Library\n"
      ],
      "metadata": {
        "id": "dS0PpOuyFA3U"
      }
    },
    {
      "cell_type": "code",
      "source": [
        "import pandas as pd\n",
        "import numpy as np\n",
        "import matplotlib.pyplot as plt\n",
        "%matplotlib inline\n",
        "import seaborn as sns\n",
        "import sklearn\n",
        "from pandas import DataFrame\n",
        "import plotly\n",
        "from pandas_proliling import ProfileReport\n",
        "import warnings\n",
        "warnings.filewarnings('ignore')\n",
        "from sklearn.model_selection import train_test_split, GridSearchCV\n",
        "from sklearn.ensemble import RandomForestRegressor\n",
        "from sklearn.preprocessing import MinMaxScaler\n",
        "from numpy import math"
      ],
      "metadata": {
        "id": "YOou13T8FH7z"
      },
      "execution_count": null,
      "outputs": []
    },
    {
      "cell_type": "markdown",
      "source": [
        "Importing Dataset"
      ],
      "metadata": {
        "id": "PsLkyDG7GT5U"
      }
    },
    {
      "cell_type": "code",
      "source": [
        "df = pd.read_csv('Agricultural_Dataset.csv')\n",
        "df.head ()"
      ],
      "metadata": {
        "id": "Xy4mWnlJGXgM"
      },
      "execution_count": null,
      "outputs": []
    },
    {
      "cell_type": "markdown",
      "source": [
        "Handling of Missing Value"
      ],
      "metadata": {
        "id": "2hMjgpD0Gjhc"
      }
    },
    {
      "cell_type": "code",
      "source": [
        "df.insull().sum()"
      ],
      "metadata": {
        "id": "1edDeqLxGryF"
      },
      "execution_count": null,
      "outputs": []
    },
    {
      "cell_type": "code",
      "source": [
        "from sklearn.impute import SimpleImputer\n",
        "imputer = SimpleImputer(missing_values=np.nan, strategy ='mean')\n",
        "df[['arena']] = imputer.fit_transform(df[['arena']])"
      ],
      "metadata": {
        "id": "Ok8cr6WOGzTL"
      },
      "execution_count": null,
      "outputs": []
    },
    {
      "cell_type": "markdown",
      "source": [
        "Train and Test Split"
      ],
      "metadata": {
        "id": "kOz4HpCNHYdb"
      }
    },
    {
      "cell_type": "markdown",
      "source": [],
      "metadata": {
        "id": "RQ5Gpoc8HhW7"
      }
    },
    {
      "cell_type": "code",
      "source": [
        "from sklearn.model_selection import train_test split,cross_validate"
      ],
      "metadata": {
        "id": "SvIEk12VHaOb"
      },
      "execution_count": null,
      "outputs": []
    },
    {
      "cell_type": "code",
      "source": [
        "X_train, X_test, Y_train, Y_test = train_test_split(X,Y, test size = 0.2, random state=0)"
      ],
      "metadata": {
        "id": "GZLDB0ZcHnXT"
      },
      "execution_count": null,
      "outputs": []
    },
    {
      "cell_type": "markdown",
      "source": [
        "Pearson's Correlation Heatmap for AUS"
      ],
      "metadata": {
        "id": "p0htV03UIGbD"
      }
    },
    {
      "cell_type": "code",
      "source": [
        "data1 = data1.drop(['District'], axis =1')\n",
        "data1 = data1.drop(['year'], axis =1)\n",
        "data1 = data1.drop(['area'], axis =1)\n",
        "data1 = data1.drop(['avg_rainfall'], axis =1)\n",
        "data1 = data1.drop(['max_temperature'], axis =1)\n",
        "data1 = data1.drop(['aman'], axis =1)\n",
        "data1 = data1.drop(['boro'], axis =1)\n",
        "data1 = data1.drop(['wheat'], axis =1)\n",
        "data1 = data1.drop(['potato'], axis =1)\n",
        "data1 = data1.drop(['jute'], axis =1)\n",
        "data1 = data1.drop(['humidity'], axis =1)\n",
        "data1 = data1.drop(['storm'], axis =1)\n",
        "data1 = data1.drop(['inundationland_Highland'], axis =1)\n",
        "data1 = data1.drop(['inundationland_mediumhighland'], axis =1)\n",
        "data1 = data1.drop(['inundationland_lowland'], axis =1)\n",
        "\n",
        "data1 = data1.drop(['inundationlandland_mediumlowland'], axis =1)\n",
        "data1 = data1.drop(['inundationland_verylowland'], axis =1)\n",
        "data1 = data1.drop(['Calcereous_Alluvium'], axis =1)\n",
        "data1 = data1.drop(['Noncalcereous Alluvium'], axis =1)\n",
        "data1 = data1.drop(['Acid Basin Clay'], axis =1)\n",
        "data1 = data1.drop(['Calecereous Brown Floodplain Soil'], axis =1)\n",
        "data1 = data1.drop(['Calecereous Grey Floodplain Soil'], axis =1)\n",
        "data1 = data1.drop(['Calecereous Dark Grey Floodplain Soil'], axis =1)\n",
        "data1 = data1.drop(['Noncalecerous Grey FloodPlain Soil'], axis =1)\n",
        "data1 = data1.drop(['Noncalecerous Grey FloodPlain Soil'], axis =1)\n",
        "data1 = data1.drop(['Peat'], axis =1)\n",
        "data1 = data1.drop(['Made_Land'], axis =1)\n",
        "data1 = data1.drop(['Shallow Red-Brown Terrace Soil'], axis =1)\n",
        "data1 = data1.drop(['Deep red Brown Terrrace Soil'], axis =1)\n",
        "data1 = data1.drop(['Brown Mottled Terrace Soil'], axis =1)\n",
        "data1 = data1.drop(['Shallow grey Terrace Soil'], axis =1)\n",
        "data1 = data1.drop(['Deep Grey Terrace Soil'], axis =1)\n",
        "data1 = data1.drop(['Grey Valley Soil'], axis =1)\n",
        "\n",
        "data1.head()\n"
      ],
      "metadata": {
        "id": "bIsl8EPwILV7"
      },
      "execution_count": null,
      "outputs": []
    },
    {
      "cell_type": "markdown",
      "source": [
        "Pearson's Correlation Heat Map for AMAN"
      ],
      "metadata": {
        "id": "P0l26cpqQSr7"
      }
    },
    {
      "cell_type": "markdown",
      "source": [
        "Pearson's Correlation Heat Map for BORO"
      ],
      "metadata": {
        "id": "wamSjcWXQX7j"
      }
    },
    {
      "cell_type": "markdown",
      "source": [
        "Model Implementation"
      ],
      "metadata": {
        "id": "aUzkrillQcED"
      }
    },
    {
      "cell_type": "markdown",
      "source": [
        "1. Linear Regression"
      ],
      "metadata": {
        "id": "RzkPcVtdQfJj"
      }
    },
    {
      "cell_type": "code",
      "source": [
        "from sklearn.linear_model import LinearRegression"
      ],
      "metadata": {
        "id": "eagXs9opQis7"
      },
      "execution_count": null,
      "outputs": []
    },
    {
      "cell_type": "code",
      "source": [
        "reg = LinearRegression()"
      ],
      "metadata": {
        "id": "FOslpsMNQtnl"
      },
      "execution_count": null,
      "outputs": []
    },
    {
      "cell_type": "code",
      "source": [
        "reg.fit(X_train,Y_train)\n",
        "Y_pred = reg.pred(X_test)"
      ],
      "metadata": {
        "id": "9d3zCOGaQxQb"
      },
      "execution_count": null,
      "outputs": []
    },
    {
      "cell_type": "code",
      "source": [
        "LinearRegression(copy_X=True, fit_intercept=True, n_jobs=None, normalize = False)"
      ],
      "metadata": {
        "id": "SCLB5-bEQ_8D"
      },
      "execution_count": null,
      "outputs": []
    },
    {
      "cell_type": "markdown",
      "source": [
        "2. Random Forest"
      ],
      "metadata": {
        "id": "bXbloUOKRSt7"
      }
    },
    {
      "cell_type": "code",
      "source": [
        "rg =RandomForestRegressor(random_state = 20)\n",
        "rg.fit(X_train,Y_train)"
      ],
      "metadata": {
        "id": "287O089ZRVh0"
      },
      "execution_count": null,
      "outputs": []
    },
    {
      "cell_type": "code",
      "source": [
        "y_pred = rg.pred(X_test)\n",
        "print('''Evaluating Model Accuracy''')\n",
        "rg.score(X_test,Y_test)*100"
      ],
      "metadata": {
        "id": "kSwCXOztRvlc"
      },
      "execution_count": null,
      "outputs": []
    },
    {
      "cell_type": "markdown",
      "source": [
        "3.K-Nearest Neighbors"
      ],
      "metadata": {
        "id": "3zGYZghRSCCT"
      }
    },
    {
      "cell_type": "code",
      "source": [
        "from sklearn.neighbors import KneighborRegressor\n",
        "from sklearn import metrics\n",
        "#Set up arrays to store train and test accuracies\n",
        "neighbors = np.arange(1,9)\n",
        "train_accuracy = np.empty(len(neighbors))\n",
        "test_accuracy = np.empty(len(neighbors))\n",
        "\n",
        "classifier = KNeighborRegressor(n_neighbors = 5)\n",
        "classifier.fit(X_train,Y_train)\n",
        "\n",
        "KNeighborsRegressors(algorithm='auto', leaf_size =30, metrics='minoski',metric_param=None, n_jobs=None, n_neighbors = 5, p=2, weights ='uniform')"
      ],
      "metadata": {
        "id": "vrYtiultSGBb"
      },
      "execution_count": null,
      "outputs": []
    },
    {
      "cell_type": "markdown",
      "source": [
        "4.Extreme Gradient Boosting"
      ],
      "metadata": {
        "id": "Qx32NrSkTgd7"
      }
    },
    {
      "cell_type": "code",
      "source": [
        "from xgboost import XGBRegressor\n",
        "regressor = XGBRegressor()\n",
        "regressor.fit(X_train, Y_train)\n",
        "Y_pred = regressor.predict(X_train)"
      ],
      "metadata": {
        "id": "UnNqu9anTjiT"
      },
      "execution_count": null,
      "outputs": []
    }
  ]
}