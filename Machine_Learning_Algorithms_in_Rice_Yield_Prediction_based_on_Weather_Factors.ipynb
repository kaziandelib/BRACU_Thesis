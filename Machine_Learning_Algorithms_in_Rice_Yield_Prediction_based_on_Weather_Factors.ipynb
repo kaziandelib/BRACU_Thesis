{
  "nbformat": 4,
  "nbformat_minor": 0,
  "metadata": {
    "colab": {
      "provenance": []
    },
    "kernelspec": {
      "name": "python3",
      "display_name": "Python 3"
    },
    "language_info": {
      "name": "python"
    }
  },
  "cells": [
    {
      "cell_type": "markdown",
      "source": [
        "Machine Learning Algorithms in Rice Yield Prediction based on Weather\n",
        "Factors"
      ],
      "metadata": {
        "id": "LJRxIhhqWmMr"
      }
    },
    {
      "cell_type": "markdown",
      "source": [
        "Data preprocessing"
      ],
      "metadata": {
        "id": "qsfVuP2VWob6"
      }
    },
    {
      "cell_type": "markdown",
      "source": [
        "Importing Library"
      ],
      "metadata": {
        "id": "Nekb5HXvWspK"
      }
    },
    {
      "cell_type": "code",
      "source": [
        "import pandas as pd\n",
        "import numpy as np\n",
        "import matplotlib.pyplot as plt\n",
        "%matplotlib inline\n",
        "import seaborn as sns\n",
        "import sklearn\n",
        "from pands import DataFrame\n",
        "import plotly\n",
        "import pandas_profiling import ProfileReport\n",
        "import warnings\n",
        "warnings.filterwarnings('ignore')\n",
        "from sklearn.model_selection import train_test_split, GridSearchCV\n",
        "from sklearn.ensemble import RandomForestRegressor\n",
        "from sklearn.preprocessing import MinMaxScaler\n",
        "from numpy import math"
      ],
      "metadata": {
        "id": "apYGdlO4Wulq"
      },
      "execution_count": null,
      "outputs": []
    },
    {
      "cell_type": "markdown",
      "source": [
        "Importing Dataset"
      ],
      "metadata": {
        "id": "x8HBVqj3Xv5c"
      }
    },
    {
      "cell_type": "code",
      "source": [
        "df = pd.read_csv('Weather_Factors_And_Yield_Dataset.csv')\n",
        "df"
      ],
      "metadata": {
        "id": "hQ4o4F8DXx5b"
      },
      "execution_count": null,
      "outputs": []
    },
    {
      "cell_type": "markdown",
      "source": [
        "Checking Missing Value"
      ],
      "metadata": {
        "id": "oa8Z0ahLYAbC"
      }
    },
    {
      "cell_type": "code",
      "source": [
        "df.isnull().sum()"
      ],
      "metadata": {
        "id": "pRLu6EeAYCAK"
      },
      "execution_count": null,
      "outputs": []
    },
    {
      "cell_type": "code",
      "source": [
        "from sklearn.impute import SimpleImputer\n",
        "imputer = SimpleImputer(missing_values=np.nan, strategy= 'mean')\n",
        "df[['LATITUDE']] = imputer.fit_transform(df[['LATITUDE']])\n",
        "df[[\"LONGITUDE\"]] = imputer.fit_transform(df[['LONGITUDE']])\n",
        "df[['alt']] = imputer.fit_transform(df[['alt']])\n",
        "df[['Avg_Max_Temp']] = imputer.fit_transform(df[['Avg_Max_Temp']])\n",
        "df[['Avg_Min_Temp']] = imputer.fit_transform(df[['Avg_Min_Temp']])\n",
        "df[['Avg_Rainfall']] = imputer.fit_transform(df[['Avg_Rainfall']])\n",
        "df[['Avg_Relative_Humidity']] = imputer.fit_transform(df[['Avg_Relative_Humidity']])\n",
        "df[['Avg_Windspeed']] = imputer.fit_transform(df[['Avg_Windspeed']])\n",
        "df[['Avg_Cloud_Coverage']] = imputer.fit_transform(df[['Avg_Cloud_Coverage']])\n",
        "df[['Avg_Bright_Sunshine']] = imputer.fit_transform(df[['Avg_Bright_Sunshine']])\n",
        "df[['Aman_Yield']] = imputer.fit_transform(df[['Aman_Yield']])\n",
        "df[['Avg_YearlyTemp'']] = imputer.fit_transform(df[['Avg_YearlyTemp']])"
      ],
      "metadata": {
        "id": "TgNXHsX0YHML"
      },
      "execution_count": null,
      "outputs": []
    },
    {
      "cell_type": "markdown",
      "source": [
        "Training and Testing Data"
      ],
      "metadata": {
        "id": "t4eYfl0laJ8D"
      }
    },
    {
      "cell_type": "code",
      "source": [
        "from sklearn.model_selection import train_test_split"
      ],
      "metadata": {
        "id": "Vf-eHKFeaLki"
      },
      "execution_count": null,
      "outputs": []
    },
    {
      "cell_type": "code",
      "source": [
        "X_train, X_test, Y_train, Y_test = train_test_split(X, Y, test_size=0.2, random_state=0)"
      ],
      "metadata": {
        "id": "rBsr44eraSxK"
      },
      "execution_count": null,
      "outputs": []
    },
    {
      "cell_type": "markdown",
      "source": [
        "Handling Categorical Data"
      ],
      "metadata": {
        "id": "KSysla7wakFy"
      }
    },
    {
      "cell_type": "code",
      "source": [
        "df['Barisal'] = np.where(df['Station']== 'Barisal', 1, 0)\n",
        "df['Bogra'] = np.where(df['Station']== 'Bogra', 1, 0)\n",
        "df['Sylhet'] = np.where(df['Station']== 'Sylhet', 1, 0)\n",
        "df['Rajshahi'] = np.where(df['Station']== 'Rajshahi', 1, 0)\n",
        "df['Faridpur'] = np.where(df['Station']== 'Faridpur', 1, 0)\n",
        "df['Mymensingh'] = np.where(df['Station']== 'Mymensingh', 1, 0)\n",
        "df['Rangamati'] = np.where(df['Station']== 'Rangamati', 1, 0)\n",
        "df['Rangpur'] = np.where(df['Station']== 'Rangpur', 1, 0)\n",
        "df['Khulna'] = np.where(df['Station']== 'Khulna', 1, 0)\n",
        "df['Dhaka'] = np.where(df['Station']== 'Dhaka', 1, 0)\n",
        "df['Comilla'] = np.where(df['Station']== 'Comilla', 1, 0)\n",
        "df['Chittagong (IAP-Patenga)'] = np.where(df['Station']== 'Chittagong', 1, 0)\n",
        "df['Jessore'] = np.where(df['Station']== 'Jessore', 1, 0)\n",
        "df['Dinajpur'] = np.where(df['Station']== 'Dinajpur', 1, 0)\n",
        "df['Patuakhali'] = np.where(df['Station']== 'Patuakhali', 1, 0)\n",
        "\n",
        "df.drop(columns= ['Station'], axis=1, inplace=True)"
      ],
      "metadata": {
        "id": "bi9LfcmdaypL"
      },
      "execution_count": null,
      "outputs": []
    },
    {
      "cell_type": "markdown",
      "source": [
        "1. Linear Regression Model"
      ],
      "metadata": {
        "id": "1rysnr87cn8j"
      }
    },
    {
      "cell_type": "code",
      "source": [
        "from sklearn.linear_model import LinearRegression\n",
        "regressor = LinearRegression()\n",
        "regressor.fit(X_train,Y_train)\n",
        "Y_pred = regressor.predict(X_test)\n",
        "\n",
        "LinearRegression(Copu_X=True, fit_intercept=True, n_jobs=None, normalize=False)"
      ],
      "metadata": {
        "id": "iNVefRALcsZq"
      },
      "execution_count": null,
      "outputs": []
    },
    {
      "cell_type": "markdown",
      "source": [
        "2. Random Forest"
      ],
      "metadata": {
        "id": "3dyje9l0dVw7"
      }
    },
    {
      "cell_type": "code",
      "source": [
        "rg = RandomForestRegressor(random_state = 20)\n",
        "rg.fit(X_train, Y_train)\n",
        "\n",
        "Y_Pred = rg.predict(X_test)\n",
        "print('''Evaluate Model Performance)\n",
        "rg.score(X_test, Y_test)*100"
      ],
      "metadata": {
        "id": "_blhQGo8dYry"
      },
      "execution_count": null,
      "outputs": []
    },
    {
      "cell_type": "markdown",
      "source": [
        "3. XGBoost Algorithm"
      ],
      "metadata": {
        "id": "z9Mg0z19d1vT"
      }
    },
    {
      "cell_type": "code",
      "source": [
        "from XGBoost import XGBRegressor\n",
        "regressor = XGBRegressor()\n",
        "regressor.fit(X_train,Y_train)\n",
        "Y_pred = regressor.predict(X_test)\n"
      ],
      "metadata": {
        "id": "C2HAi192d4IK"
      },
      "execution_count": null,
      "outputs": []
    },
    {
      "cell_type": "markdown",
      "source": [
        "3. K Nearest Neighbor"
      ],
      "metadata": {
        "id": "ZnK0wqMmeOVT"
      }
    },
    {
      "cell_type": "code",
      "source": [
        "from sklearn.neighbors import KneighborsRegressor\n",
        "from sklearn import metrics\n",
        "#Setup arrays to store training and test accuracies\n",
        "neighbors = np.arange (1,9)\n",
        "train_accuracy = np.empty(len(neighbors))\n",
        "test_accuracy = np.empty(len(neighbors))\n",
        "\n",
        "classifier = KNeighborsRegressors(m_Neighbors=2)\n",
        "Classifier.fit(X_train, Y_train)\n",
        "\n",
        "KneighborsRegressors(algorithm = 'auto', leaf_size = 30, metric='minkoski', metric params=None, n_jobs=None, n_neighbors=2, p=2, weights='uniform')"
      ],
      "metadata": {
        "id": "jfmr1B7-eQ-C"
      },
      "execution_count": null,
      "outputs": []
    }
  ]
}